{
 "cells": [
  {
   "cell_type": "markdown",
   "metadata": {},
   "source": [
    "# Data Meets Python 🐍 #2   \n",
    "--- \n",
    "## How you can create Actionable Insights with a Decile Segmentation Analysis\n",
    "\n",
    "📝 **Author:** José Oliveira da Cruz   \n",
    "🔗 **[Medium Article](https://medium.com/p/b1c253b514b3)**\n",
    "<p>\n",
    "  <a href=\"https://www.linkedin.com/in/josecruz-phd/\" rel=\"nofollow noreferrer\">\n",
    "    <img src=\"https://i.stack.imgur.com/gVE0j.png\" alt=\"linkedin\"> LinkedIn\n",
    "  </a> &nbsp; \n",
    "    <br>\n",
    "  <a href=\"https://github.com/joseferncruz\" rel=\"nofollow noreferrer\">\n",
    "    <img src=\"https://i.stack.imgur.com/tskMh.png\" alt=\"github\"> Github\n",
    "  </a>\n",
    "</p>\n",
    "\n",
    "\n"
   ]
  },
  {
   "cell_type": "markdown",
   "metadata": {},
   "source": [
    "## 1. Gather customer data."
   ]
  },
  {
   "cell_type": "code",
   "execution_count": 10,
   "metadata": {},
   "outputs": [
    {
     "data": {
      "text/html": [
       "<div>\n",
       "<style scoped>\n",
       "    .dataframe tbody tr th:only-of-type {\n",
       "        vertical-align: middle;\n",
       "    }\n",
       "\n",
       "    .dataframe tbody tr th {\n",
       "        vertical-align: top;\n",
       "    }\n",
       "\n",
       "    .dataframe thead th {\n",
       "        text-align: right;\n",
       "    }\n",
       "</style>\n",
       "<table border=\"1\" class=\"dataframe\">\n",
       "  <thead>\n",
       "    <tr style=\"text-align: right;\">\n",
       "      <th></th>\n",
       "      <th>InvoiceNo</th>\n",
       "      <th>StockCode</th>\n",
       "      <th>Description</th>\n",
       "      <th>Quantity</th>\n",
       "      <th>InvoiceDate</th>\n",
       "      <th>UnitPrice</th>\n",
       "      <th>CustomerID</th>\n",
       "      <th>Country</th>\n",
       "    </tr>\n",
       "  </thead>\n",
       "  <tbody>\n",
       "    <tr>\n",
       "      <th>0</th>\n",
       "      <td>536365</td>\n",
       "      <td>85123A</td>\n",
       "      <td>WHITE HANGING HEART T-LIGHT HOLDER</td>\n",
       "      <td>6</td>\n",
       "      <td>2010-12-01 08:26:00</td>\n",
       "      <td>2.55</td>\n",
       "      <td>17850.0</td>\n",
       "      <td>United Kingdom</td>\n",
       "    </tr>\n",
       "    <tr>\n",
       "      <th>1</th>\n",
       "      <td>536365</td>\n",
       "      <td>71053</td>\n",
       "      <td>WHITE METAL LANTERN</td>\n",
       "      <td>6</td>\n",
       "      <td>2010-12-01 08:26:00</td>\n",
       "      <td>3.39</td>\n",
       "      <td>17850.0</td>\n",
       "      <td>United Kingdom</td>\n",
       "    </tr>\n",
       "    <tr>\n",
       "      <th>2</th>\n",
       "      <td>536365</td>\n",
       "      <td>84406B</td>\n",
       "      <td>CREAM CUPID HEARTS COAT HANGER</td>\n",
       "      <td>8</td>\n",
       "      <td>2010-12-01 08:26:00</td>\n",
       "      <td>2.75</td>\n",
       "      <td>17850.0</td>\n",
       "      <td>United Kingdom</td>\n",
       "    </tr>\n",
       "    <tr>\n",
       "      <th>3</th>\n",
       "      <td>536365</td>\n",
       "      <td>84029G</td>\n",
       "      <td>KNITTED UNION FLAG HOT WATER BOTTLE</td>\n",
       "      <td>6</td>\n",
       "      <td>2010-12-01 08:26:00</td>\n",
       "      <td>3.39</td>\n",
       "      <td>17850.0</td>\n",
       "      <td>United Kingdom</td>\n",
       "    </tr>\n",
       "    <tr>\n",
       "      <th>4</th>\n",
       "      <td>536365</td>\n",
       "      <td>84029E</td>\n",
       "      <td>RED WOOLLY HOTTIE WHITE HEART.</td>\n",
       "      <td>6</td>\n",
       "      <td>2010-12-01 08:26:00</td>\n",
       "      <td>3.39</td>\n",
       "      <td>17850.0</td>\n",
       "      <td>United Kingdom</td>\n",
       "    </tr>\n",
       "  </tbody>\n",
       "</table>\n",
       "</div>"
      ],
      "text/plain": [
       "  InvoiceNo StockCode                          Description  Quantity  \\\n",
       "0    536365    85123A   WHITE HANGING HEART T-LIGHT HOLDER         6   \n",
       "1    536365     71053                  WHITE METAL LANTERN         6   \n",
       "2    536365    84406B       CREAM CUPID HEARTS COAT HANGER         8   \n",
       "3    536365    84029G  KNITTED UNION FLAG HOT WATER BOTTLE         6   \n",
       "4    536365    84029E       RED WOOLLY HOTTIE WHITE HEART.         6   \n",
       "\n",
       "          InvoiceDate  UnitPrice  CustomerID         Country  \n",
       "0 2010-12-01 08:26:00       2.55     17850.0  United Kingdom  \n",
       "1 2010-12-01 08:26:00       3.39     17850.0  United Kingdom  \n",
       "2 2010-12-01 08:26:00       2.75     17850.0  United Kingdom  \n",
       "3 2010-12-01 08:26:00       3.39     17850.0  United Kingdom  \n",
       "4 2010-12-01 08:26:00       3.39     17850.0  United Kingdom  "
      ]
     },
     "execution_count": 10,
     "metadata": {},
     "output_type": "execute_result"
    }
   ],
   "source": [
    "import requests\n",
    "import numpy as np\n",
    "import pandas as pd\n",
    "import matplotlib.pyplot as plt\n",
    "\n",
    "URL = \"https://archive.ics.uci.edu/ml/machine-learning-databases/00352/Online%20Retail.xlsx\"\n",
    "\n",
    "def get_data(url: str) -> pd.DataFrame:\n",
    "    \"\"\"Download and load dataframe with UCI Online Retail Transactional Data. \n",
    "\n",
    "    See Also\n",
    "    --------\n",
    "    UCI: https://archive.ics.uci.edu/dataset/352/online+retail\n",
    "    \"\"\"\n",
    "\n",
    "    response = requests.get(url)\n",
    "    \n",
    "    response.raise_for_status()\n",
    "\n",
    "    dataframe = pd.read_excel(url)\n",
    "\n",
    "    return dataframe\n",
    "\n",
    "dataframe = get_data(URL)\n",
    "\n",
    "dataframe.head()"
   ]
  },
  {
   "cell_type": "markdown",
   "metadata": {},
   "source": [
    "## 2. Make sure our data is clean and has the appropriate aggregations."
   ]
  },
  {
   "cell_type": "code",
   "execution_count": 5,
   "metadata": {},
   "outputs": [
    {
     "data": {
      "text/html": [
       "<div>\n",
       "<style scoped>\n",
       "    .dataframe tbody tr th:only-of-type {\n",
       "        vertical-align: middle;\n",
       "    }\n",
       "\n",
       "    .dataframe tbody tr th {\n",
       "        vertical-align: top;\n",
       "    }\n",
       "\n",
       "    .dataframe thead th {\n",
       "        text-align: right;\n",
       "    }\n",
       "</style>\n",
       "<table border=\"1\" class=\"dataframe\">\n",
       "  <thead>\n",
       "    <tr style=\"text-align: right;\">\n",
       "      <th></th>\n",
       "      <th>CustomerID</th>\n",
       "      <th>total_value</th>\n",
       "    </tr>\n",
       "  </thead>\n",
       "  <tbody>\n",
       "    <tr>\n",
       "      <th>0</th>\n",
       "      <td>12346</td>\n",
       "      <td>2.08</td>\n",
       "    </tr>\n",
       "    <tr>\n",
       "      <th>1</th>\n",
       "      <td>12347</td>\n",
       "      <td>481.21</td>\n",
       "    </tr>\n",
       "    <tr>\n",
       "      <th>2</th>\n",
       "      <td>12348</td>\n",
       "      <td>178.71</td>\n",
       "    </tr>\n",
       "    <tr>\n",
       "      <th>3</th>\n",
       "      <td>12349</td>\n",
       "      <td>605.10</td>\n",
       "    </tr>\n",
       "    <tr>\n",
       "      <th>4</th>\n",
       "      <td>12350</td>\n",
       "      <td>65.30</td>\n",
       "    </tr>\n",
       "  </tbody>\n",
       "</table>\n",
       "</div>"
      ],
      "text/plain": [
       "  CustomerID  total_value\n",
       "0      12346         2.08\n",
       "1      12347       481.21\n",
       "2      12348       178.71\n",
       "3      12349       605.10\n",
       "4      12350        65.30"
      ]
     },
     "execution_count": 5,
     "metadata": {},
     "output_type": "execute_result"
    }
   ],
   "source": [
    "def clean_data(dataframe: \"pd.Dataframe\") -> pd.DataFrame:\n",
    "    \n",
    "    # Remove data without/NULL CustomerID information\n",
    "    temp_dataframe = dataframe[~dataframe.CustomerID.isna()].copy()\n",
    "    \n",
    "    # Fix datatype for CustomerID\n",
    "    temp_dataframe = (\n",
    "        temp_dataframe\n",
    "        .assign(\n",
    "            CustomerID=lambda df: df.CustomerID.astype(int).astype('string')\n",
    "        )\n",
    "    )\n",
    "    \n",
    "    # Aggregate at Customer Level\n",
    "    temp_customer_level = (\n",
    "        temp_dataframe\n",
    "        .groupby(['CustomerID'])\n",
    "        .UnitPrice\n",
    "        .sum()\n",
    "        .rename('total_value')\n",
    "        .reset_index()\n",
    "    )\n",
    "    \n",
    "    return temp_customer_level\n",
    "\n",
    "customer_level = clean_data(dataframe)\n",
    "\n",
    "customer_level.head()"
   ]
  },
  {
   "cell_type": "markdown",
   "metadata": {},
   "source": [
    "## 3. Use the qcut pandas function to create the decile labels."
   ]
  },
  {
   "cell_type": "code",
   "execution_count": 6,
   "metadata": {},
   "outputs": [],
   "source": [
    "def create_decile_labelled_dataframe(customer_level_dataframe):\n",
    "    \n",
    "\n",
    "    # Which column to use\n",
    "    value_column_to_cut = customer_level_dataframe.total_value\n",
    "    \n",
    "    \n",
    "    # For a decile analysis, this means an array of 10 quantiles\n",
    "    quantiles = np.linspace(0, 1, num=11, endpoint=True)\n",
    "    \n",
    "    # Labels for each group\n",
    "    labels = [f'group_{i}' for i in range(1, 11)]\n",
    "    \n",
    "    customer_level_dataframe['label'] = pd.qcut(\n",
    "        \n",
    "        x=value_column_to_cut, \n",
    "        q=quantiles, \n",
    "        labels=labels\n",
    "            \n",
    "    )\n",
    "    \n",
    "    return customer_level_dataframe"
   ]
  },
  {
   "cell_type": "markdown",
   "metadata": {},
   "source": [
    "## 4. Extract insights from your decile groups."
   ]
  },
  {
   "cell_type": "code",
   "execution_count": 8,
   "metadata": {},
   "outputs": [],
   "source": [
    "def plot_figure_with_stats(customer_level_dataframe):\n",
    "    \"\"\"Plot the decile analysis.\"\"\"\n",
    "    \n",
    "    # Group data\n",
    "    grouped = customer_level_dataframe.groupby(['label'])\n",
    "    \n",
    "    # Calculate the total value\n",
    "    total_value = grouped.total_value.sum().astype(int).values.sum()\n",
    "    \n",
    "    # Calculate the % of total value for each group\n",
    "    perct_each_group = grouped.total_value.sum().div(total_value).mul(100).round(1).values\n",
    "    \n",
    "    n_customer_group = grouped.CustomerID.nunique().median()\n",
    "    \n",
    "    fig, ax = plt.subplots(figsize=(10, 5), layout='constrained')\n",
    "\n",
    "    ax = grouped.total_value.sum().plot.barh(ax, color=['C0']*8 + ['C1']*2)\n",
    "    \n",
    "    # Create annotations for the bars\n",
    "    for i, v in enumerate(customer_level_dataframe.groupby(['label']).total_value.sum().astype(int).values):\n",
    "        ax.text(v*1.015, i, f'{v} EUR | {perct_each_group[i]}% of total revenue', color='black', va='center')\n",
    "\n",
    "    ax.spines['top'].set_visible(False)\n",
    "    ax.spines['right'].set_visible(False)\n",
    "    ax.spines['left'].set_visible(False)\n",
    "    ax.spines['bottom'].set_visible(False)\n",
    "    ax.set(ylabel='', xticklabels=[], xticks=[])\n",
    "    fig.suptitle('~70% of our revenue comes from 20% of our customers')\n",
    "\n",
    "    ax.tick_params(axis='y', which='both', length=0)\n",
    "    \n",
    "    # Add the legend\n",
    "    leg_handle = plt.Line2D([], [], color='none', marker='', linestyle='-')\n",
    "    plt.legend(handles=[leg_handle], labels=[f'Number of customers per group: ~{n_customer_group:.0f}'], loc=(1, 0))\n",
    "    \n",
    "    plt.show()"
   ]
  },
  {
   "cell_type": "markdown",
   "metadata": {},
   "source": [
    "## 5.  All in one!"
   ]
  },
  {
   "cell_type": "code",
   "execution_count": 11,
   "metadata": {},
   "outputs": [
    {
     "data": {
      "image/png": "[encoded data removed]",
      "text/plain": [
       "<Figure size 720x360 with 1 Axes>"
      ]
     },
     "metadata": {
      "needs_background": "light"
     },
     "output_type": "display_data"
    }
   ],
   "source": [
    "# Now all in one:\n",
    "URL = \"https://archive.ics.uci.edu/ml/machine-learning-databases/00352/Online%20Retail.xlsx\"\n",
    "dataframe = get_data(URL) # see previous code snippet\n",
    "customer_level_dataframe = create_decile_labelled_dataframe(clean_data(dataframe))\n",
    "plot_figure_with_stats(customer_level_dataframe)"
   ]
  },
  {
   "cell_type": "markdown",
   "metadata": {},
   "source": [
    "### Thank you for following my work!\n",
    "\n",
    "---\n",
    "For more content like this, please follow me on LinkedIn 👉 [José Oliveira da Cruz, PhD](https://www.linkedin.com/in/josecruz-phd/).\n",
    "\n",
    "\n",
    "❗️**Found a typo?** Sorry for the inconvenience. I've tried to catch them all, but 'to err is human.' \n",
    "\n",
    "Please let me know by [creating a GitHub issue](https://github.com/joseferncruz/data-meets-python/issues/new), and I will fix it as soon as possible. Thank you!\n"
   ]
  }
 ],
 "metadata": {
  "kernelspec": {
   "display_name": "Python 3 (ipykernel)",
   "language": "python",
   "name": "python3"
  },
  "language_info": {
   "codemirror_mode": {
    "name": "ipython",
    "version": 3
   },
   "file_extension": ".py",
   "mimetype": "text/x-python",
   "name": "python",
   "nbconvert_exporter": "python",
   "pygments_lexer": "ipython3",
   "version": "3.9.12"
  }
 },
 "nbformat": 4,
 "nbformat_minor": 4
}
