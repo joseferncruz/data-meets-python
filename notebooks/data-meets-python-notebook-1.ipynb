{
 "cells": [
  {
   "cell_type": "markdown",
   "metadata": {},
   "source": [
    "# Data Meets Python 🐍 #1   \n",
    "--- \n",
    "## A step-by-step guide to using Bootstrapping to calculate Confidence Intervals. Eggs included.\n",
    "\n",
    "📝 **Author:** José Oliveira da Cruz.   \n",
    "🔗 **Medium Article**: link tbd\n",
    "<p>\n",
    "  <a href=\"https://www.linkedin.com/in/josecruz-phd/\" rel=\"nofollow noreferrer\">\n",
    "    <img src=\"https://i.stack.imgur.com/gVE0j.png\" alt=\"linkedin\"> LinkedIn\n",
    "  </a> &nbsp; \n",
    "    <br>\n",
    "  <a href=\"https://github.com/joseferncruz\" rel=\"nofollow noreferrer\">\n",
    "    <img src=\"https://i.stack.imgur.com/tskMh.png\" alt=\"github\"> Github\n",
    "  </a>\n",
    "</p>\n",
    "\n",
    "\n"
   ]
  },
  {
   "cell_type": "markdown",
   "metadata": {},
   "source": [
    "## 1. Generate some (random) data"
   ]
  },
  {
   "cell_type": "code",
   "execution_count": 1,
   "metadata": {},
   "outputs": [
    {
     "name": "stdout",
     "output_type": "stream",
     "text": [
      "We have 2000000 eggs in the basket. On average, their weight is 50.00 grams, and their standard deviation is 5.00.\n"
     ]
    }
   ],
   "source": [
    "# Import necessary packages\n",
    "import numpy as np\n",
    "import matplotlib.pyplot as plt\n",
    "from scipy.stats import norm\n",
    "\n",
    "# Fix seed to ensure reproducibility\n",
    "np.random.seed(42)\n",
    "\n",
    "# Define some statistics to create some data\n",
    "mean_egg_weight = 50\n",
    "std_egg_weight = 5\n",
    "n_eggs = 2_000_000\n",
    "\n",
    "# Create the basket of eggs\n",
    "eggs_basket = np.random.normal(\n",
    "    loc=mean_egg_weight, \n",
    "    scale=std_egg_weight, \n",
    "    size=n_eggs\n",
    ")\n",
    "\n",
    "print(f'We have {eggs_basket.size} eggs in the basket. On average, their weight is {eggs_basket.mean():0.2f} grams, and their standard deviation is {eggs_basket.std():0.2f}.')\n"
   ]
  },
  {
   "cell_type": "markdown",
   "metadata": {},
   "source": [
    "## 2. The Bootstrapping algorithm"
   ]
  },
  {
   "cell_type": "code",
   "execution_count": 2,
   "metadata": {},
   "outputs": [
    {
     "name": "stdout",
     "output_type": "stream",
     "text": [
      "In 1000 rounds of sampling, the mean of sample means is 49.99, and the standard deviation is 0.37.\n"
     ]
    }
   ],
   "source": [
    "# Define the number of rounds in the simulation\n",
    "n_bootstraps = 1_000\n",
    "\n",
    "# Create an array to store the results of the simulation\n",
    "sample_means = np.empty(shape=n_bootstraps)\n",
    "\n",
    "for i in range(n_bootstraps):\n",
    "    # Sample (collect) n eggs from the basket\n",
    "    sample = np.random.choice(\n",
    "        eggs_basket,\n",
    "        size=200,         # How many eggs we draw in each round\n",
    "        replace=True     # With replacement means that after drawing each egg, we put it back in the basket\n",
    "    )\n",
    "    \n",
    "    # Calculate the sample mean\n",
    "    sample_mean = np.mean(sample)\n",
    "    \n",
    "    # Store the result for later\n",
    "    sample_means[i] = sample_mean\n",
    "\n",
    "# Calculate the mean and standard deviation of the sample means\n",
    "mean_sample_means = np.mean(sample_means)\n",
    "std_sample_means = np.std(sample_means)\n",
    "\n",
    "print(f'In {n_bootstraps} rounds of sampling, the mean of sample means is {mean_sample_means:0.2f}, and the standard deviation is {std_sample_means:0.2f}.')\n"
   ]
  },
  {
   "cell_type": "markdown",
   "metadata": {},
   "source": [
    "## 3. Visualize the output"
   ]
  },
  {
   "cell_type": "code",
   "execution_count": 3,
   "metadata": {},
   "outputs": [
    {
     "data": {
      "image/png": "[encoded data removed]",
      "text/plain": [
       "<Figure size 864x432 with 1 Axes>"
      ]
     },
     "metadata": {
      "needs_background": "light"
     },
     "output_type": "display_data"
    }
   ],
   "source": [
    "fig, ax = plt.subplots(figsize=(12, 6))\n",
    "ax.hist(\n",
    "    sample_means,\n",
    "    bins=50,\n",
    "    edgecolor='none',\n",
    "    alpha=0.4\n",
    ")\n",
    "\n",
    "ax.axvline(mean_sample_means.mean(), label='Mean', color='black')\n",
    "\n",
    "# Plot 1SD\n",
    "ax.axvline(sample_means.mean() - sample_means.std(), label='±1*SD', color='grey')\n",
    "ax.axvline(sample_means.mean() + sample_means.std(), label='', color='grey')\n",
    "\n",
    "# Plot 1.96*SD\n",
    "ax.axvline(sample_means.mean() - 1.96*sample_means.std(), label='±1.96*SD = 95%CI', color='orange')\n",
    "ax.axvline(sample_means.mean() + 1.96*sample_means.std(), label='', color='orange')\n",
    "\n",
    "# Plot 3*SD\n",
    "ax.axvline(sample_means.mean() - 3*sample_means.std(), label='±3*SD', color='green')\n",
    "ax.axvline(sample_means.mean() + 3*sample_means.std(), label='', color='green')\n",
    "\n",
    "\n",
    "ax.fill_betweenx(\n",
    "    [0, 70], \n",
    "    sample_means.mean() - 1.96*sample_means.std(),\n",
    "    sample_means.mean() + 1.96*sample_means.std(),\n",
    "    color='orange', alpha=0.1  \n",
    ")\n",
    "\n",
    "ax.set(\n",
    "    xlabel='weight',\n",
    "    ylabel='counts',\n",
    ")\n",
    "\n",
    "ax.set_title('Distribution of sample means from bootstrapping')\n",
    "\n",
    "\n",
    "for location in ['top', 'right', 'bottom', 'left']:\n",
    "    ax.spines[location].set_visible(False)\n",
    "\n",
    "plt.legend(loc='lower right')\n",
    "plt.show()\n"
   ]
  },
  {
   "cell_type": "markdown",
   "metadata": {},
   "source": [
    "## 4. Calculate the 95% Confidence Interval"
   ]
  },
  {
   "cell_type": "code",
   "execution_count": 4,
   "metadata": {},
   "outputs": [
    {
     "name": "stdout",
     "output_type": "stream",
     "text": [
      "The 95% Confidence Interval is: 49.25, 50.72. The mean of our estimates is 49.99 grams.\n"
     ]
    }
   ],
   "source": [
    "lower_95CI, upper_95CI = np.percentile(sample_means, [2.5, 97.5])\n",
    "\n",
    "result = f\"The 95% Confidence Interval is: {lower_95CI:.2f}, {upper_95CI:.2f}. The mean of our estimates is {sample_means.mean():.2f} grams.\"\n",
    "\n",
    "print(result)"
   ]
  },
  {
   "cell_type": "markdown",
   "metadata": {},
   "source": [
    "### Thank you for following my work!\n",
    "\n",
    "---\n",
    "For more content like this, please follow me on LinkedIn 👉 [José Oliveira da Cruz, PhD](https://www.linkedin.com/in/josecruz-phd/).\n",
    "\n",
    "\n",
    "❗️**Found a typo?** Sorry for the inconvenience. I've tried to catch them all, but 'to err is human.' \n",
    "\n",
    "Please let me know by [creating a GitHub issue](https://github.com/joseferncruz/data-meets-python/issues/new), and I will fix it as soon as possible. Thank you!\n"
   ]
  }
 ],
 "metadata": {
  "kernelspec": {
   "display_name": "Python 3 (ipykernel)",
   "language": "python",
   "name": "python3"
  },
  "language_info": {
   "codemirror_mode": {
    "name": "ipython",
    "version": 3
   },
   "file_extension": ".py",
   "mimetype": "text/x-python",
   "name": "python",
   "nbconvert_exporter": "python",
   "pygments_lexer": "ipython3",
   "version": "3.9.12"
  }
 },
 "nbformat": 4,
 "nbformat_minor": 4
}
